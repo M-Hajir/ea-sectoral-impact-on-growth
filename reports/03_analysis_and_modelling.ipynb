{
 "cells": [
  {
   "cell_type": "markdown",
   "source": [
    "<h3 id=\"top\"> Table of Contents </h3>\n",
    "\n",
    "---\n",
    "\n",
    "<ol>\n",
    "    <li> <strong> <a href=\"#1\"> Data Source and Description </a> </strong>\n",
    "    <ul>\n",
    "        <li> 1.1 <a href=\"#1.1\"> Description of the Dataset </a> </li>\n",
    "        <li> 1.2 <a href=\"#1.2\"> Variables and Their Definitions </a> </li>\n",
    "    </ul> \n",
    "    </li>\n",
    "    <li> <strong> <a href=\"#2\"> Data Pre-processing and Exploration </a> </strong>\n",
    "    <ul>\n",
    "        <li> 2.1 <a href=\"#2.1\"> Importing the Dataset </a> </li>\n",
    "        <li> 2.2 <a href=\"#2.2\"> First Glance at the Data </a> </li>\n",
    "        <li> 2.3 <a href=\"#2.3\"> Handling Missing Values </a> </li>\n",
    "        <li> 2.4 <a href=\"#2.4\"> Exploratory Data Analysis </a>\n",
    "        <ul>\n",
    "            <li> 2.4.1 <a href=\"#2.4.1\"> Descriptive Statistics </a> </li>\n",
    "            <li> 2.4.2 <a href=\"#2.4.2\"> Correlation </a> </li>\n",
    "            <li> 2.4.3 <a href=\"#2.4.3\"> Heterogeneity </a> </li>\n",
    "            <li> 2.4.4 <a href=\"#2.4.4\"> Visualizations </a> </li>            \n",
    "        </ul>\n",
    "        </li>\n",
    "    </ul>\n",
    "    </li>\n",
    "    <li>\n",
    "    <strong> <a href=\"#3\"> Methodology </a> </strong>\n",
    "    <ul>\n",
    "        <li> 3.1 <a href=\"#3.1\"> Econometric Model Specification </a> </li>\n",
    "        <li> 3.2 <a href=\"#3.2\"> Identification and Treatment of Outliers </a> </li>\n",
    "        <li> 3.3 <a href=\"#3.3\"> Selection of Estimators and Justification </a> </li>\n",
    "    </ul>\n",
    "    </li>\n",
    "    <li>\n",
    "    <strong> <a href=\"#4\"> Empirical Analysis </a> </strong>\n",
    "    <ul>\n",
    "        <li> 4.1 <a href=\"#4.1\"> Pooled OLS </a> </li>\n",
    "        <li> 4.2 <a href=\"#4.2\"> Fixed Effects Model </a> </li>\n",
    "        <li> 4.3 <a href=\"#4.3\"> Random Effects Model </a> </li>\n",
    "        <li> 4.4 <a href=\"#4.4\"> Hausman Test </a> </li>\n",
    "        <li> 4.5 <a href=\"#4.5\"> Diagnostic Tests </a>\n",
    "        <ul>\n",
    "            <li> 4.5.1 <a href=\"#4.5.1\"> Multicollinearity </a> </li>\n",
    "            <li> 4.5.2 <a href=\"#4.5.2\"> Heteroskedasticity </a> </li>\n",
    "            <li> 4.5.3 <a href=\"#4.5.3\"> Autocorrelation </a> </li>\n",
    "        </ul>\n",
    "        </li>\n",
    "        <li> 4.6 <a href=\"#4.6\"> Transformation and Re-estimation </a>\n",
    "        <ul>\n",
    "            <li> 4.6.1 <a href=\"#4.6.1\"> Rationale for Transformation </a> </li>\n",
    "            <li> 4.6.2 <a href=\"#4.6.2\"> Model Re-estimation and Results </a> </li>\n",
    "        </ul>\n",
    "        </li>\n",
    "        <li> 4.7 <a href=\"#4.7\"> Results and Interpretation </a> </li>\n",
    "        <li> 4.8 <a href=\"#4.8\"> Robustness Checks </a> </li>        \n",
    "    </ul>\n",
    "    </li>\n",
    "</ol>"
   ],
   "metadata": {
    "collapsed": false
   },
   "id": "c86290c006401bd5"
  },
  {
   "cell_type": "markdown",
   "source": [
    "<h3 id=\"1\"> 1. Data Source and Description </h3>\n",
    "\n",
    "---\n",
    "<h4 id=\"1.1\"> 1.1 Description of the Dataset </h4>\n",
    "\n",
    "<p> This data was sourced from the <a href=\"https://data.worldbank.org/\"> World Bank </a> and <a href=\"https://ilostat.ilo.org/\"> ILOSTAT </a> databases. The dataset contains economic and employment data for seven East African countries spanning 31 years (1991-2021). This comprehensive dataset provides a multi-faceted view of the economic landscape and employment trends in East Africa over the given period. </p>\n",
    "\n",
    "<h4 id=\"1.2\"> 1.2 Variables and Their Definitions </h4>\n",
    "<p> With 217 observations, the dataset details: </p> \n",
    "\n",
    "<ul>\n",
    "    <li> <strong> Country & Year</strong>: Identifies the nation and observation year. </li>\n",
    "    <li> <strong> Economic Indicators</strong>:\n",
    "        <ul>\n",
    "            <li> <strong> GDP Growth</strong>: Annual percentage increase based on constant local currency. </li>\n",
    "            <li> <strong> Labor Force</strong>: Total population available for employment, covering both employed and unemployed individuals. </li>\n",
    "            <li> <strong> Gross Capital Formation</strong>: Capital used in goods and services production, presented as a percentage of GDP. </li>\n",
    "            <li> <strong> Trade</strong>: Combined value of exports and imports as a percentage of GDP. </li>\n",
    "            <li> <strong> Broad Money</strong>: Sum of currency held outside banks and demand deposits, represented as a percentage of GDP. </li>\n",
    "            <li> <strong> Political Stability</strong>: An unspecified metric detailing the stability of the country's political environment. </li>\n",
    "            <li> <strong> Sectoral Value Added (% of GDP)</strong>: Contribution of Agriculture, Industry, Manufacturing, and Services to the GDP. Specific definitions for each sector are provided based on the ISIC divisions. </li>\n",
    "        </ul>\n",
    "    <li> <strong> Employment Distribution</strong>: \n",
    "        <ul>\n",
    "            <li> <strong> Sectoral Employment</strong>: Percentage of the labor force engaged in Agriculture, Industry, Manufacturing, and Services. </li>\n",
    "        </ul>\n",
    "    </li>\n",
    "</ul>"
   ],
   "metadata": {
    "collapsed": false
   },
   "id": "6e638b83e4592232"
  },
  {
   "cell_type": "markdown",
   "source": [
    "<h3 id=\"2\"> 2. Data Pre-processing and Exploration </h3>\n",
    "\n",
    "---\n",
    "<h4 id=\"2.1\"> 2.1 Importing the Dataset </h4>\n",
    "\n",
    "<p> The dataset was imported from a CSV file using the <code> pandas </code> library. </p>"
   ],
   "metadata": {
    "collapsed": false
   },
   "id": "4460d39f5efc6d7f"
  },
  {
   "cell_type": "code",
   "execution_count": 4,
   "outputs": [],
   "source": [
    "# Import pandas library\n",
    "import pandas as pd\n",
    "\n",
    "# Import dataset\n",
    "df = pd.read_csv('../data/processed/sectoral_data.csv')"
   ],
   "metadata": {
    "collapsed": false
   },
   "id": "51949ff1cf19e0c4"
  },
  {
   "cell_type": "markdown",
   "source": [
    "<h4 id=\"2.2\"> 2.2 First Glance at the Data </h4>\n",
    "\n",
    "<"
   ],
   "metadata": {
    "collapsed": false
   },
   "id": "8d5f337ce5f07ce6"
  },
  {
   "cell_type": "code",
   "execution_count": 4,
   "outputs": [],
   "source": [],
   "metadata": {
    "collapsed": false
   },
   "id": "72b90bec00e08b09"
  }
 ],
 "metadata": {
  "kernelspec": {
   "display_name": "Python 3",
   "language": "python",
   "name": "python3"
  },
  "language_info": {
   "codemirror_mode": {
    "name": "ipython",
    "version": 2
   },
   "file_extension": ".py",
   "mimetype": "text/x-python",
   "name": "python",
   "nbconvert_exporter": "python",
   "pygments_lexer": "ipython2",
   "version": "2.7.6"
  }
 },
 "nbformat": 4,
 "nbformat_minor": 5
}
