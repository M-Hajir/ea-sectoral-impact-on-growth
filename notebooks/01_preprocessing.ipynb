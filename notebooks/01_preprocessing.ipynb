{
 "cells": [
  {
   "cell_type": "code",
   "execution_count": 5,
   "id": "initial_id",
   "metadata": {
    "collapsed": true,
    "ExecuteTime": {
     "end_time": "2023-10-25T16:57:01.876070100Z",
     "start_time": "2023-10-25T16:57:00.244133900Z"
    }
   },
   "outputs": [],
   "source": [
    "import src.processing as process\n",
    "import pandas as pd\n",
    "\n",
    "# Get data\n",
    "wbdata = process.wbdata(\"../data/raw/economic_sectors_data.xlsx\")\n",
    "ilodata = process.ilodata(\"../data/raw/employment_data.csv\")\n",
    "\n",
    "# Outer join on country and year\n",
    "data = pd.merge(wbdata, ilodata, how=\"outer\", on=[\"Country Name\", \"Year\"])\n",
    "\n",
    "drop = [\"Employment in agriculture (% of total employment) (modeled ILO estimate)\",\"Employment in services (% of total employment) (modeled ILO estimate)\"]\n",
    "\n",
    "data = data.drop(drop, axis=1)"
   ]
  },
  {
   "cell_type": "code",
   "execution_count": 6,
   "outputs": [],
   "source": [
    "column_names = [\n",
    "    \"Country\",\n",
    "    \"Year\",\n",
    "    \"Agriculture (% of GDP)\",\n",
    "    \"Broad money (% of GDP)\",\n",
    "    \"Industry (% of employment)\",\n",
    "    \"GDP growth (annual %)\",\n",
    "    \"Gross capital formation (% of GDP)\",\n",
    "    \"Industry (% of GDP)\",\n",
    "    \"Labor force\",\n",
    "    \"Manufacturing (% of GDP)\",\n",
    "    \"Political stability\",\n",
    "    \"Population\",\n",
    "    \"Services (% of GDP)\",\n",
    "    \"Trade (% of GDP)\",\n",
    "    \"Manufacturing (% of employment)\",\n",
    "    \"Services (% of employment)\",\n",
    "    \"Agriculture (% of employment)\"    \n",
    "]\n",
    "\n",
    "# Rename columns\n",
    "data.columns = column_names\n",
    "\n",
    "column_order = [\n",
    "    \"Country\",\n",
    "    \"Year\",\n",
    "    \"GDP growth (annual %)\",\n",
    "    \"Labor force\",\n",
    "    \"Gross capital formation (% of GDP)\",\n",
    "    \"Industry (% of GDP)\",\n",
    "    \"Industry (% of employment)\",\n",
    "    \"Manufacturing (% of GDP)\",\n",
    "    \"Manufacturing (% of employment)\",\n",
    "    \"Services (% of GDP)\",\n",
    "    \"Services (% of employment)\",\n",
    "    \"Agriculture (% of GDP)\",\n",
    "    \"Agriculture (% of employment)\",\n",
    "    \"Trade (% of GDP)\",\n",
    "    \"Broad money (% of GDP)\",\n",
    "    \"Political stability\"\n",
    "]\n",
    "\n",
    "# Reorder columns\n",
    "data = data[column_order]\n",
    "\n",
    "# Filter for 1991-2021\n",
    "data = data[(data[\"Year\"] >= 1991) & (data[\"Year\"] <= 2021)]\n",
    "\n",
    "# Fitler for South Sudan\n",
    "data = data[data[\"Country\"] != \"South Sudan\"]\n",
    "\n",
    "# Export to csv\n",
    "data.to_csv(\"../data/processed/sectoral_data.csv\", index=False)"
   ],
   "metadata": {
    "collapsed": false,
    "ExecuteTime": {
     "end_time": "2023-10-25T16:57:01.877067100Z",
     "start_time": "2023-10-25T16:57:00.559251100Z"
    }
   },
   "id": "e6d44d6e8af1c03d"
  }
 ],
 "metadata": {
  "kernelspec": {
   "display_name": "Python 3",
   "language": "python",
   "name": "python3"
  },
  "language_info": {
   "codemirror_mode": {
    "name": "ipython",
    "version": 2
   },
   "file_extension": ".py",
   "mimetype": "text/x-python",
   "name": "python",
   "nbconvert_exporter": "python",
   "pygments_lexer": "ipython2",
   "version": "2.7.6"
  }
 },
 "nbformat": 4,
 "nbformat_minor": 5
}
